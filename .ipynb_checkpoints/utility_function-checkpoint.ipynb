{
 "cells": [
  {
   "cell_type": "code",
   "execution_count": 11,
   "id": "ae03da97",
   "metadata": {},
   "outputs": [],
   "source": [
    "def import_lib(x):\n",
    "    import numpy as np\n",
    "    import nibabel as nib\n",
    "    import torch\n",
    "    import math\n",
    "    from PIL import Image\n",
    "    import warnings\n",
    "    warnings.filterwarnings(\"ignore\")\n",
    "    return x**2\n"
   ]
  },
  {
   "cell_type": "code",
   "execution_count": 2,
   "id": "4781b318",
   "metadata": {},
   "outputs": [],
   "source": [
    "def load_data_nii(fname):\n",
    "    img = nib.load(fname)\n",
    "    affine_mat=img.affine\n",
    "    hdr=img.header\n",
    "    data = img.get_fdata()\n",
    "    data_norm = data\n",
    "    return data_norm "
   ]
  },
  {
   "cell_type": "code",
   "execution_count": 3,
   "id": "dc9a3ee3",
   "metadata": {},
   "outputs": [],
   "source": [
    "def calculate_l1_distance(img,img2):\n",
    "    dist = np.sum(abs(img[:] - img2[:]));\n",
    "    return dist\n",
    "\n",
    "def calculate_l2_distance(img,img2):\n",
    "    dist = np.sqrt(np.sum((img[:] - img2[:])** 2));\n",
    "    return dist\n",
    "\n",
    "def calculate_RMSE(img,img2):\n",
    "    m=img.shape[0]\n",
    "    n= img.shape[1]\n",
    "    rmse = np.sqrt(np.sum((img[:] - img2[:])** 2)/(m*n));\n",
    "    return rmse\n",
    "\n",
    "def calculate_PSNR(img,img2):\n",
    "    psnr = 10* math.log10( (np.sum(img[:]** 2)) / (np.sum((img[:] - img2[:])** 2)) )\n",
    "    return psnr"
   ]
  },
  {
   "cell_type": "code",
   "execution_count": 4,
   "id": "f07206c0",
   "metadata": {},
   "outputs": [],
   "source": [
    "def fourier_transform(image,shift=False):\n",
    "    FT = np.fft.fft2(image)\n",
    "    \n",
    "    if shift:\n",
    "        f_shift = np.fft.fftshift(FT)\n",
    "        return f_shift\n",
    "    else:\n",
    "        return FT"
   ]
  },
  {
   "cell_type": "code",
   "execution_count": 5,
   "id": "494d7100",
   "metadata": {},
   "outputs": [],
   "source": [
    "def inverse_fourier_transform(data,shift=False):\n",
    "    if shift:\n",
    "        image = np.fft.ifft2(np.fft.ifftshift(data))\n",
    "    else:\n",
    "        image = np.fft.ifft2(data)\n",
    "    return image\n",
    "    "
   ]
  },
  {
   "cell_type": "code",
   "execution_count": 6,
   "id": "47133ecf",
   "metadata": {},
   "outputs": [],
   "source": [
    "def save_img_using_pil_lib(img,name,fol_dir):\n",
    "    data= img\n",
    "    data = data.astype('float')\n",
    "    data = (data/data.max())*255\n",
    "    data = data.astype(np.uint8)\n",
    "    data = Image.fromarray(data)\n",
    "    data.save(fol_dir+name+'.png')"
   ]
  },
  {
   "cell_type": "code",
   "execution_count": 7,
   "id": "2fbf4828",
   "metadata": {},
   "outputs": [],
   "source": [
    "def crop_center(arr,factor=2):\n",
    "    y,x = arr.shape\n",
    "    startx = x//(factor*2)  #defining the center of image in x and y direction\n",
    "    starty = y//(factor*2)\n",
    "    return arr[starty:starty+y//factor,startx:startx+x//factor]  \n",
    "#take one fourt from front and one fourth from back for reducing size by half of an image\n",
    "\n",
    "def pad_zeros_around(arr,factor=2):\n",
    "    rows_pad = arr.shape[0]//factor\n",
    "    cols_pad = arr.shape[1]//factor\n",
    "    return np.pad(arr, [(rows_pad, rows_pad), (cols_pad, cols_pad)], mode='constant',constant_values=0)\n",
    "\n",
    "def crop_pad_image_kspace(data,pad=False,factor=2):\n",
    "    F = np.fft.fft2(data)\n",
    "    fshift = np.fft.fftshift(F)\n",
    "    data = crop_center(arr=fshift,factor=factor)\n",
    "    \n",
    "    if pad:\n",
    "        data= pad_zeros_around(arr=data,factor=factor)\n",
    "        \n",
    "    img_reco_cropped = np.fft.ifft2(np.fft.ifftshift(data))\n",
    "    return np.abs(img_reco_cropped )"
   ]
  },
  {
   "cell_type": "code",
   "execution_count": 8,
   "id": "7824eb16",
   "metadata": {},
   "outputs": [],
   "source": [
    "def normalize_image(image):\n",
    "    max_img = image.max()\n",
    "    min_img = image.min()\n",
    "    denom = max_img-min_img\n",
    "    norm_image = (image-min_img)/denom\n",
    "    return norm_image"
   ]
  },
  {
   "cell_type": "code",
   "execution_count": 9,
   "id": "6b4ae5b3",
   "metadata": {},
   "outputs": [],
   "source": [
    "def print_something():\n",
    "    print('hello world')\n",
    "    return 1"
   ]
  },
  {
   "cell_type": "code",
   "execution_count": null,
   "id": "8dfd4bb5",
   "metadata": {},
   "outputs": [],
   "source": []
  },
  {
   "cell_type": "code",
   "execution_count": null,
   "id": "3843a156",
   "metadata": {},
   "outputs": [],
   "source": []
  }
 ],
 "metadata": {
  "kernelspec": {
   "display_name": "Python 3 (ipykernel)",
   "language": "python",
   "name": "python3"
  },
  "language_info": {
   "codemirror_mode": {
    "name": "ipython",
    "version": 3
   },
   "file_extension": ".py",
   "mimetype": "text/x-python",
   "name": "python",
   "nbconvert_exporter": "python",
   "pygments_lexer": "ipython3",
   "version": "3.8.9"
  }
 },
 "nbformat": 4,
 "nbformat_minor": 5
}
